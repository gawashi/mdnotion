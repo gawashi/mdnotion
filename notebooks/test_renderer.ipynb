{
 "cells": [
  {
   "cell_type": "code",
   "execution_count": null,
   "id": "a35dde29",
   "metadata": {},
   "outputs": [],
   "source": [
    "import os\n",
    "from pprint import pprint\n",
    "\n",
    "import dotenv\n",
    "import mistune\n",
    "from mistune import BaseRenderer\n",
    "from notion_client import Client\n",
    "\n",
    "from mdnotion.renderer import NotionRenderer\n",
    "\n",
    "dotenv.load_dotenv()\n"
   ]
  },
  {
   "cell_type": "code",
   "execution_count": null,
   "id": "68bcad24",
   "metadata": {},
   "outputs": [],
   "source": [
    "sample_markdown = \"\"\"# This is heading 1\n",
    "This is a paragraph with some **bold** and *italic* text.\n",
    "code span: `print(\"Hello, World!\")`\n",
    "link: [Google](https://www.google.com)\n",
    "link2: [**G**oogle](https://www.google.com)\n",
    "\n",
    "## This is heading 2\n",
    "This is a paragraph with a list:\n",
    "\n",
    "- This is a list item.\n",
    "- This is another list item.\n",
    "1. This is a **numbered** list item\n",
    "and a sample text.\n",
    "2. This is another *numbered* list item\n",
    "and a sample text.\n",
    "    - This is a nested list item.\n",
    "    - This is another nested list item.\n",
    "\n",
    "### This is heading 3\n",
    "This is a code block:\n",
    "```python\n",
    "print(\"Hello, World!\")\n",
    "```\n",
    "\n",
    "#### Heading 4 should be converted to a strong text\n",
    "\"\"\""
   ]
  },
  {
   "cell_type": "code",
   "execution_count": null,
   "id": "cc9cd657",
   "metadata": {},
   "outputs": [],
   "source": [
    "class PrintRenderer(BaseRenderer):\n",
    "    def render_tokens(self, tokens, state):\n",
    "        for tok in tokens:\n",
    "            pprint(tok)\n",
    "\n",
    "renderer = mistune.create_markdown(renderer=PrintRenderer())\n",
    "renderer(sample_markdown)"
   ]
  },
  {
   "cell_type": "code",
   "execution_count": null,
   "id": "270cfb6b",
   "metadata": {},
   "outputs": [],
   "source": [
    "renderer = mistune.create_markdown(renderer=NotionRenderer())\n",
    "content = renderer(sample_markdown)"
   ]
  },
  {
   "cell_type": "code",
   "execution_count": null,
   "id": "7ab2d387",
   "metadata": {},
   "outputs": [],
   "source": [
    "content"
   ]
  },
  {
   "cell_type": "code",
   "execution_count": null,
   "id": "67c98858",
   "metadata": {},
   "outputs": [],
   "source": [
    "properties = {\n",
    "    \"Name\": {\"title\": [{\"text\": {\"content\": \"Sample Page\"}}]},\n",
    "}\n",
    "page = {\n",
    "        \"parent\": {\n",
    "            \"database_id\": os.environ[\"DATABASE_ID\"]\n",
    "        },\n",
    "        \"properties\": properties,\n",
    "        \"children\": content\n",
    "    }"
   ]
  },
  {
   "cell_type": "code",
   "execution_count": null,
   "id": "1d71ec42",
   "metadata": {},
   "outputs": [],
   "source": [
    "notion = Client(auth=os.environ[\"NOTION_TOKEN\"])\n",
    "notion.pages.create(**page)"
   ]
  },
  {
   "cell_type": "code",
   "execution_count": null,
   "id": "c4417d9d",
   "metadata": {},
   "outputs": [],
   "source": []
  }
 ],
 "metadata": {
  "kernelspec": {
   "display_name": ".venv",
   "language": "python",
   "name": "python3"
  },
  "language_info": {
   "codemirror_mode": {
    "name": "ipython",
    "version": 3
   },
   "file_extension": ".py",
   "mimetype": "text/x-python",
   "name": "python",
   "nbconvert_exporter": "python",
   "pygments_lexer": "ipython3",
   "version": "3.10.17"
  }
 },
 "nbformat": 4,
 "nbformat_minor": 5
}
